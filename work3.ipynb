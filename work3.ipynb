{
  "nbformat": 4,
  "nbformat_minor": 0,
  "metadata": {
    "colab": {
      "provenance": [],
      "authorship_tag": "ABX9TyOo7IFPGVkzzUT6oanBQ5Cm",
      "include_colab_link": true
    },
    "kernelspec": {
      "name": "python3",
      "display_name": "Python 3"
    },
    "language_info": {
      "name": "python"
    }
  },
  "cells": [
    {
      "cell_type": "markdown",
      "metadata": {
        "id": "view-in-github",
        "colab_type": "text"
      },
      "source": [
        "<a href=\"https://colab.research.google.com/github/kawaguchishion/Prog2kakushin/blob/main/work3.ipynb\" target=\"_parent\"><img src=\"https://colab.research.google.com/assets/colab-badge.svg\" alt=\"Open In Colab\"/></a>"
      ]
    },
    {
      "cell_type": "markdown",
      "source": [
        "単色画像で絵を描く。"
      ],
      "metadata": {
        "id": "be9TTHIIOno_"
      }
    },
    {
      "cell_type": "code",
      "execution_count": 87,
      "metadata": {
        "id": "_s8FOPf6OcKB",
        "colab": {
          "base_uri": "https://localhost:8080/",
          "height": 157
        },
        "outputId": "7c9356cb-8194-42b4-81c3-d1e3ddc0a9a3"
      },
      "outputs": [
        {
          "output_type": "display_data",
          "data": {
            "text/plain": [
              "<PIL.Image.Image image mode=RGB size=240x140 at 0x7FC33621ACD0>"
            ],
            "image/png": "[encoded data removed]"
          },
          "metadata": {}
        }
      ],
      "source": [
        "import numpy as np  \n",
        "import sys   \n",
        "import cv2   \n",
        "from google.colab.patches import cv2_imshow \n",
        "\n",
        "back=np.zeros((140,240,3))\n",
        "back+=[0,255,255][::-1]\n",
        "\n",
        "red=np.full((20,20,3),(0,0,255)) #赤色の画像\n",
        "green=np.full((20,20,3),(0,128,130)) #緑色の画像\n",
        "skin=np.full((20,20,3),(0,150,255)) #肌色の画像\n",
        "\n",
        "cv2.imwrite('red.png',red)\n",
        "cv2.imwrite('green.png',green)\n",
        "cv2.imwrite('skin.png',skin)\n",
        "\n",
        "h1=red.shape[0] \n",
        "w1=red.shape[1]\n",
        "h2=green.shape[0] \n",
        "w2=green.shape[1]\n",
        "h3=skin.shape[0] \n",
        "w3=skin.shape[1]\n",
        "\n",
        "for x in range(5):\n",
        "  back[0:0+h1,60+x*20:60+(x+1)*20]=red            #１行目\n",
        "  \n",
        "\n",
        "for x in range(10):\n",
        "  back[20:20+h1,40+x*20:40+(x+1)*20]=red          #２行目\n",
        "\n",
        "\n",
        "for x in range(3):\n",
        "  back[40:40+h2,40+x*20:40+(x+1)*20]=green\n",
        "for x in range(2):\n",
        "  back[40:40+h3,100+x*20:100+(x+1)*20]=skin\n",
        "back[40:40+h2,140:140+w2]=green\n",
        "back[40:40+h3,160:160+w3]=skin                    #３行目\n",
        "\n",
        "\n",
        "back[60:60+h2,20:20+w2]=green\n",
        "back[60:60+h3,40:40+w3]=skin\n",
        "back[60:60+h2,60:60+w2]=green\n",
        "for x in range(3):\n",
        "  back[60:60+h3,80+x*20:80+(x+1)*20]=skin\n",
        "back[60:60+h2,140:140+w3]=green\n",
        "for x in range(3):\n",
        "  back[60:60+h3,160+x*20:160+(x+1)*20]=skin       #４行目\n",
        "\n",
        "\n",
        "back[80:80+h2,20:20+w2]=green\n",
        "back[80:80+h3,40:40+w3]=skin\n",
        "for x in range(2):\n",
        "  back[80:80+h2,60+x*20:60+(x+1)*20]=green\n",
        "for x in range(3):\n",
        "  back[80:80+h3,100+x*20:100+(x+1)*20]=skin\n",
        "back[80:80+h2,160:160+w2]=green\n",
        "for x in range(3):\n",
        "  back[80:80+h3,180+x*20:180+(x+1)*20]=skin       #５行目\n",
        "\n",
        "\n",
        "for x in range(2):\n",
        "  back[100:100+h2,20+x*20:20+(x+1)*20]=green\n",
        "for x in range(4):\n",
        "  back[100:100+h3,60+x*20:60+(x+1)*20]=skin\n",
        "for x in range(4):\n",
        "  back[100:100+h2,140+x*20:140+(x+1)*20]=green    #６行目\n",
        "\n",
        "\n",
        "for x in range(7):\n",
        "  back[120:120+h3,60+x*20:60+(x+1)*20]=skin       #７行目\n",
        "\n",
        "\n",
        "cv2_imshow(back)"
      ]
    }
  ]
}