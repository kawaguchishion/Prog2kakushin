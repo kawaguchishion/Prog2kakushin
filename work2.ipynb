{
  "nbformat": 4,
  "nbformat_minor": 0,
  "metadata": {
    "colab": {
      "provenance": [],
      "authorship_tag": "ABX9TyMj3HMZXk1dHWU7CBcFwwmH",
      "include_colab_link": true
    },
    "kernelspec": {
      "name": "python3",
      "display_name": "Python 3"
    },
    "language_info": {
      "name": "python"
    }
  },
  "cells": [
    {
      "cell_type": "markdown",
      "metadata": {
        "id": "view-in-github",
        "colab_type": "text"
      },
      "source": [
        "<a href=\"https://colab.research.google.com/github/kawaguchishion/Prog2kakushin/blob/main/work2.ipynb\" target=\"_parent\"><img src=\"https://colab.research.google.com/assets/colab-badge.svg\" alt=\"Open In Colab\"/></a>"
      ]
    },
    {
      "cell_type": "markdown",
      "source": [
        "グラフ描写を使って絵を描く。"
      ],
      "metadata": {
        "id": "5NnfVcxDMp0T"
      }
    },
    {
      "cell_type": "code",
      "execution_count": 1,
      "metadata": {
        "id": "549OLZ6JMAY9"
      },
      "outputs": [],
      "source": [
        "import numpy as np\n",
        "import matplotlib.pyplot as plt"
      ]
    },
    {
      "cell_type": "code",
      "source": [
        "x1=np.linspace(10,30,100)\n",
        "x2=np.linspace(-30,-10,100)\n",
        "x3=np.linspace(-10,10,100)\n",
        "x4=np.linspace(0,1,100)\n",
        "x5=np.linspace(0,1,100)\n",
        "x6=np.linspace(-25,-15,100)\n",
        "x7=np.linspace(15,25,100)\n",
        "\n",
        "y1=-1*x1**2+40*x1\n",
        "y2=-1*x2**2-40*x2\n",
        "y3=x3**2-400\n",
        "y4=50*x4\n",
        "y5=-50*x5\n",
        "y6=x6+100\n",
        "y7=x7+100\n",
        "\n",
        "plt.plot(x1,y1,color='b') #右眉毛\n",
        "plt.plot(x2,y2,color='b') #左眉毛\n",
        "plt.plot(x3,y3,color='b') #口\n",
        "plt.plot(x4,y4,color='b') #上鼻\n",
        "plt.plot(x5,y5,color='b') #下鼻\n",
        "plt.plot(x6,y6,color='b') #左目\n",
        "plt.plot(x7,y7,color='b') #右目\n",
        "\n",
        "plt.show()"
      ],
      "metadata": {
        "colab": {
          "base_uri": "https://localhost:8080/",
          "height": 265
        },
        "id": "1ilTMt6amLsb",
        "outputId": "bcc5e054-0a0a-4100-c73c-08392136ce5d"
      },
      "execution_count": 55,
      "outputs": [
        {
          "output_type": "display_data",
          "data": {
            "text/plain": [
              "<Figure size 432x288 with 1 Axes>"
            ],
            "image/png": "[encoded data removed]"
          },
          "metadata": {
            "needs_background": "light"
          }
        }
      ]
    }
  ]
}